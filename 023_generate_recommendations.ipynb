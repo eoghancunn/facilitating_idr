{
 "cells": [
  {
   "cell_type": "code",
   "execution_count": null,
   "metadata": {},
   "outputs": [],
   "source": [
    "from torch_geometric.nn import MLP\n",
    "import torch_geometric\n",
    "import torch\n",
    "import torch.nn as nn\n",
    "\n",
    "import matplotlib.pyplot as plt\n",
    "from tqdm import tqdm\n",
    "import json \n",
    "import scipy\n",
    "import pickle\n",
    "import numpy as np\n",
    "import pandas as pd"
   ]
  },
  {
   "cell_type": "code",
   "execution_count": null,
   "metadata": {},
   "outputs": [],
   "source": [
    "year = 2017\n",
    "training_years = [2016]\n",
    "k_list = [10,20,30]\n",
    "methods = ['combsage','graphsage','specter']"
   ]
  },
  {
   "cell_type": "code",
   "execution_count": null,
   "metadata": {},
   "outputs": [],
   "source": [
    "def load_embeddings(method, year):\n",
    "    if method == 'specter':\n",
    "        emb = pd.read_json(f'specter/{year}/output_{year-1}.jsonl', lines = True).set_index('paper_id')\n",
    "        return emb['embedding'].to_dict()\n",
    "    elif method == 'tfidf':\n",
    "        X = scipy.sparse.load_npz(f'embeddings/tfidf_({year-1})_{year}.npz')\n",
    "        with open(f'embeddings/tfidf_({year-1})_{year}_index.json') as infile:\n",
    "            ids = json.load(infile)\n",
    "        return {k:X[ids[k]] for k in ids}\n",
    "    else: \n",
    "        with open(f'embeddings/{method}_({year-1})_{year}.json','r') as infile:\n",
    "            return json.load(infile)"
   ]
  },
  {
   "cell_type": "code",
   "execution_count": null,
   "metadata": {
    "tags": []
   },
   "outputs": [],
   "source": [
    "class Net(torch_geometric.nn.models.MLP):\n",
    "    def __init__(self, channels, dropout = 0):\n",
    "        super().__init__(channel_list=channels, dropout=dropout)\n",
    "\n",
    "    def forward(self, x):\n",
    "        return torch.sigmoid(super().forward(x))\n"
   ]
  },
  {
   "cell_type": "code",
   "execution_count": null,
   "metadata": {},
   "outputs": [],
   "source": [
    "data = {} \n",
    "with open(f'co_citations/{year}.json', 'r') as infile:\n",
    "    for json_line in infile.readlines():\n",
    "        try:\n",
    "            data.update(json.loads(json_line))\n",
    "        except:\n",
    "            continue\n",
    "\n",
    "co_cit_df = pd.DataFrame(data)\n",
    "del data"
   ]
  },
  {
   "cell_type": "code",
   "execution_count": null,
   "metadata": {},
   "outputs": [],
   "source": [
    "d = {}\n",
    "for method in methods:\n",
    "    d[method] = set(load_embeddings(method,2017))"
   ]
  },
  {
   "cell_type": "code",
   "execution_count": null,
   "metadata": {},
   "outputs": [],
   "source": [
    "final_df = pd.read_json('meta_data.jsonl', lines = True).set_index('paperId')"
   ]
  },
  {
   "cell_type": "code",
   "execution_count": null,
   "metadata": {},
   "outputs": [],
   "source": [
    "recs = {}"
   ]
  },
  {
   "cell_type": "code",
   "execution_count": null,
   "metadata": {},
   "outputs": [],
   "source": [
    "embs = load_embeddings('tfidf',2017)"
   ]
  },
  {
   "cell_type": "code",
   "execution_count": null,
   "metadata": {},
   "outputs": [],
   "source": [
    "targets = list(embs)\n",
    "model = pickle.load(open('params/recommenders/tfidf_2016.sav', 'rb'))"
   ]
  },
  {
   "cell_type": "code",
   "execution_count": null,
   "metadata": {},
   "outputs": [],
   "source": [
    "t = scipy.sparse.vstack(pd.Series(embs).values)"
   ]
  },
  {
   "cell_type": "code",
   "execution_count": null,
   "metadata": {},
   "outputs": [],
   "source": [
    "method = 'tfidf'"
   ]
  },
  {
   "cell_type": "code",
   "execution_count": null,
   "metadata": {
    "tags": []
   },
   "outputs": [],
   "source": [
    "preds = {}\n",
    " rec_df = {}\n",
    "for query in tqdm(co_cit_df.columns):\n",
    "    \n",
    "\n",
    "    q = embs[query]\n",
    "    q = scipy.sparse.vstack([q]*len(targets))\n",
    "\n",
    "    E = scipy.sparse.hstack([t,q])\n",
    "    pr = model.predict_proba(E)\n",
    "    pr = pr[:,1]\n",
    "    pr_d = {targets[i]:pr[i] for i in range(len(targets))}\n",
    "\n",
    "    recommendations = pd.Series(pr_d).sort_values(ascending = False)\n",
    "    top_k = list(recommendations.iloc[:50].index)\n",
    "    r = {}\n",
    "    for k in reversed(k_list):\n",
    "        top_k = top_k[:k]\n",
    "        r[f'@{k}'] = top_k\n",
    "    rec_df[query] = r\n",
    "    \n",
    "recs[method] = pd.DataFrame(rec_df)\n",
    "recs[method].to_json(f'recommendations/tfidf_{year}.json')"
   ]
  },
  {
   "cell_type": "code",
   "execution_count": null,
   "metadata": {},
   "outputs": [],
   "source": [
    "for method in methods:\n",
    "    embs = load_embeddings(method, year)\n",
    "\n",
    "    targets = list(embs)\n",
    "    dim = len(embs[targets[0]])\n",
    "\n",
    "    model = Net([dim*2, 64, 1], dropout=0.2)\n",
    "\n",
    "    y_str = '_'.join([str(y) for y in training_years])\n",
    "    params = torch.load(f'params/recommenders/{method}_{y_str}_update.pth')\n",
    "    model.load_state_dict(params)\n",
    "    model.eval()\n",
    "\n",
    "    preds = {}\n",
    "    t = np.vstack(pd.Series(embs).values)\n",
    "\n",
    "    rec_df = {}\n",
    "    total_rank_df = {} \n",
    "    for query in tqdm(co_cit_df.columns):\n",
    "\n",
    "        # E = np.vstack([embs[query]+embs[target] for target in embs])\n",
    "        q = np.array(embs[query])\n",
    "        q = q[None,:].repeat(len(targets),axis = 0)\n",
    "\n",
    "        E = np.concatenate((q,t),axis=1)\n",
    "        E = torch.from_numpy(E).float()\n",
    "\n",
    "        pr = model(E).detach().numpy()\n",
    "        pr_d = {targets[i]:pr[i][0] for i in range(len(targets))}\n",
    "        recommendations = pd.Series(pr_d).sort_values(ascending = False)\n",
    "        top_k = list(recommendations.iloc[:50].index)\n",
    "        r = {}\n",
    "        for k in reversed(k_list):\n",
    "            top_k = top_k[:k]\n",
    "            r[f'@{k}'] = top_k\n",
    "        rec_df[query] = r\n",
    "        total_rank_df[query] = pr_d\n",
    "    pd.DataFrame(total_rank_df).to_json(f'recommendations/total/{method}_{year}.json')\n",
    "    recs[method] = pd.DataFrame(rec_df)\n",
    "    recs[method].to_json(f'recommendations/{method}_{year}.json')"
   ]
  },
  {
   "cell_type": "code",
   "execution_count": null,
   "metadata": {},
   "outputs": [],
   "source": [
    "recs = {}\n",
    "for method in ['graphsage', 'specter', 'combsage', 'tfidf']:\n",
    "    recs[method] = pd.read_json(f'recommendations/{method}_{year}.json')"
   ]
  },
  {
   "cell_type": "code",
   "execution_count": null,
   "metadata": {},
   "outputs": [],
   "source": [
    "def eval_recommendation(rec_df):\n",
    "    res = {}\n",
    "    for query in tqdm(co_cit_df.columns):\n",
    "        r = {}\n",
    "        for k in k_list: \n",
    "            recommended = set(rec_df.loc[query][f'@{k}'])\n",
    "            relevant = set(co_cit_df[query].dropna().index)\n",
    "            retrieved = recommended.intersection(relevant)\n",
    "            if len(relevant) == 0:\n",
    "                precision, recall = np.nan, np.nan\n",
    "            else: \n",
    "                precision = len(retrieved)/k\n",
    "                recall = len(retrieved)/len(relevant)\n",
    "            r[f'prec@{k}'] = precision\n",
    "            r[f'recall@{k}'] = recall\n",
    "        res[query] = r\n",
    "    return pd.DataFrame(res).T"
   ]
  },
  {
   "cell_type": "code",
   "execution_count": null,
   "metadata": {},
   "outputs": [],
   "source": [
    "res = {emb:eval_recommendation(recs[emb].T) for emb in recs}"
   ]
  },
  {
   "cell_type": "code",
   "execution_count": null,
   "metadata": {},
   "outputs": [],
   "source": [
    "pd.DataFrame({emb:res[emb].mean() for emb in res}).T"
   ]
  },
  {
   "cell_type": "code",
   "execution_count": null,
   "metadata": {},
   "outputs": [],
   "source": [
    "hitrate = {}\n",
    "for emb in res:\n",
    "    h = {}\n",
    "    for k in k_list:\n",
    "        h[f'@{k}'] = len(res[emb][res[emb][f'prec@{k}'] > 0])/len(res[emb])\n",
    "    hitrate[emb] = h"
   ]
  },
  {
   "cell_type": "code",
   "execution_count": null,
   "metadata": {},
   "outputs": [],
   "source": [
    "pd.DataFrame(hitrate)"
   ]
  },
  {
   "cell_type": "code",
   "execution_count": null,
   "metadata": {},
   "outputs": [],
   "source": [
    "def bootstrap(attr, rounding = 3):\n",
    "    bootstrap = {method:{} for method in ['tfidf']}\n",
    "    for method in ['tfidf']: \n",
    "        for k in k_list:\n",
    "            means = []\n",
    "            for _ in range(1000):\n",
    "                means.append(res[method][f'{attr}@{k}'].sample(len(res[method]), replace = True).mean())\n",
    "            means = np.array(means)\n",
    "            bootstrap[method][f'{attr}@{k}'] =  f'{means.mean():.3f}±{(1.96*means.std()):.3f}'\n",
    "    return pd.DataFrame(bootstrap)"
   ]
  },
  {
   "cell_type": "code",
   "execution_count": null,
   "metadata": {},
   "outputs": [],
   "source": [
    "attrs = ['prec', 'recall']\n",
    "table = pd.concat([bootstrap(attr) for attr in attrs]).T\n",
    "table.to_latex()"
   ]
  },
  {
   "cell_type": "code",
   "execution_count": null,
   "metadata": {},
   "outputs": [],
   "source": [
    "q = co_cit_df.columns[0]"
   ]
  }
 ],
 "metadata": {
  "kernelspec": {
   "display_name": "Python 3 (ipykernel)",
   "language": "python",
   "name": "python3"
  },
  "language_info": {
   "codemirror_mode": {
    "name": "ipython",
    "version": 3
   },
   "file_extension": ".py",
   "mimetype": "text/x-python",
   "name": "python",
   "nbconvert_exporter": "python",
   "pygments_lexer": "ipython3",
   "version": "3.12.5"
  }
 },
 "nbformat": 4,
 "nbformat_minor": 4
}
