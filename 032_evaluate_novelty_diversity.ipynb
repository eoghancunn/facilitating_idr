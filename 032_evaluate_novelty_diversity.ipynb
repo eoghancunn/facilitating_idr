{
 "cells": [
  {
   "cell_type": "code",
   "execution_count": null,
   "metadata": {},
   "outputs": [],
   "source": [
    "import matplotlib.pyplot as plt\n",
    "from tqdm import tqdm\n",
    "import json \n",
    "import numpy as np\n",
    "import seaborn as sns\n",
    "import pandas as pd\n",
    "import networkx as nx\n",
    "from sklearn.metrics.pairwise import cosine_similarity"
   ]
  },
  {
   "cell_type": "code",
   "execution_count": null,
   "metadata": {},
   "outputs": [],
   "source": [
    "year = 2017\n",
    "k_list = [10,20,30]\n",
    "methods = ['graphsage', 'specter', 'combsage','tfidf']"
   ]
  },
  {
   "cell_type": "code",
   "execution_count": null,
   "metadata": {},
   "outputs": [],
   "source": [
    "data = {} \n",
    "with open(f'co_citations/{year}.json', 'r') as infile:\n",
    "    for json_line in infile.readlines():\n",
    "        try:\n",
    "            data.update(json.loads(json_line))\n",
    "        except:\n",
    "            continue\n",
    "\n",
    "co_cit_df = pd.DataFrame(data)\n",
    "del data"
   ]
  },
  {
   "cell_type": "code",
   "execution_count": null,
   "metadata": {},
   "outputs": [],
   "source": [
    "recs = {}\n",
    "for method in methods:\n",
    "    recs[method] = pd.read_json(f'recommendations/{method}_{year}.json')"
   ]
  },
  {
   "cell_type": "code",
   "execution_count": null,
   "metadata": {},
   "outputs": [],
   "source": [
    "final_df = pd.read_json('meta_data.jsonl', lines = True).set_index('paperId')"
   ]
  },
  {
   "cell_type": "code",
   "execution_count": null,
   "metadata": {},
   "outputs": [],
   "source": [
    "papers_2017 = final_df[final_df['year']<=2017].reset_index()['paperId']\n",
    "random_recs = {}\n",
    "for query in tqdm(recs['specter'].columns):\n",
    "    r = {} \n",
    "    for k in k_list: \n",
    "        r[f'@{k}'] = set(papers_2017.sample(k))\n",
    "    random_recs[query] = r"
   ]
  },
  {
   "cell_type": "code",
   "execution_count": null,
   "metadata": {},
   "outputs": [],
   "source": [
    "recs['random'] = pd.DataFrame(random_recs)"
   ]
  },
  {
   "cell_type": "code",
   "execution_count": null,
   "metadata": {},
   "outputs": [],
   "source": [
    "def eval_recommendation(rec_df):\n",
    "    res = {}\n",
    "    for query in tqdm(co_cit_df.columns):\n",
    "        r = {}\n",
    "        for k in k_list: \n",
    "            recommended = set(rec_df.loc[query][f'@{k}'])\n",
    "            relevant = set(co_cit_df[query].dropna().index)\n",
    "            retrieved = recommended.intersection(relevant)\n",
    "            if len(relevant) == 0:\n",
    "                precision, recall = np.nan, np.nan\n",
    "            else: \n",
    "                precision = len(retrieved)/k\n",
    "                recall = len(retrieved)/len(relevant)\n",
    "            r[f'prec@{k}'] = precision\n",
    "            r[f'recall@{k}'] = recall\n",
    "            r[f'ret@{k}'] = retrieved\n",
    "        res[query] = r\n",
    "    return pd.DataFrame(res).T"
   ]
  },
  {
   "cell_type": "code",
   "execution_count": null,
   "metadata": {},
   "outputs": [],
   "source": [
    "res = {emb:eval_recommendation(recs[emb].T) for emb in recs}"
   ]
  },
  {
   "cell_type": "code",
   "execution_count": null,
   "metadata": {},
   "outputs": [],
   "source": [
    "numeric_col = [col for col in res['graphsage'].columns if 'ret' not in col]\n",
    "pd.DataFrame({emb:res[emb][numeric_col].mean() for emb in res}).T"
   ]
  },
  {
   "cell_type": "code",
   "execution_count": null,
   "metadata": {},
   "outputs": [],
   "source": [
    "hitrate = {}\n",
    "for emb in res:\n",
    "    h = {}\n",
    "    for k in k_list:\n",
    "        h[f'@{k}'] = len(res[emb][res[emb][f'prec@{k}'] > 0])/len(res[emb].dropna())\n",
    "    hitrate[emb] = h"
   ]
  },
  {
   "cell_type": "code",
   "execution_count": null,
   "metadata": {},
   "outputs": [],
   "source": [
    "pd.DataFrame(hitrate)[methods]"
   ]
  },
  {
   "cell_type": "code",
   "execution_count": null,
   "metadata": {},
   "outputs": [],
   "source": [
    "print(pd.DataFrame(hitrate)[methods].T.style.to_latex())"
   ]
  },
  {
   "cell_type": "code",
   "execution_count": null,
   "metadata": {},
   "outputs": [],
   "source": [
    "def mean_div(recs, attr = 'scibert_cls'):\n",
    "    if len(recs) > 0:\n",
    "        X = np.vstack(final_df.loc[list(recs)][attr].values)\n",
    "        return 1 - cosine_similarity(X).mean()\n",
    "    else:\n",
    "        return np.nan\n",
    "def mean_nov(recs, q_index, attr = 'scibert_cls'):\n",
    "    if len(recs) > 0:\n",
    "        X = np.vstack(final_df.loc[list(recs)][attr].values)\n",
    "        Q = final_df.loc[q_index][attr]\n",
    "        Q = np.array(Q).reshape(1,-1)\n",
    "        return 1 - cosine_similarity(Q,X).mean()\n",
    "    else:\n",
    "        return np.nan"
   ]
  },
  {
   "cell_type": "code",
   "execution_count": null,
   "metadata": {},
   "outputs": [],
   "source": [
    "for emb in ['combsage','graphsage', 'specter']:\n",
    "    for k in k_list:\n",
    "        res[emb].loc[:,f'div@{k}'] = recs[emb].T[f'@{k}'].apply(mean_div)"
   ]
  },
  {
   "cell_type": "code",
   "execution_count": null,
   "metadata": {},
   "outputs": [],
   "source": [
    "del res['random']\n",
    "del res['tfidf']"
   ]
  },
  {
   "cell_type": "code",
   "execution_count": null,
   "metadata": {},
   "outputs": [],
   "source": [
    "numeric_col = [col for col in res['graphsage'].columns if 'div' in col]\n",
    "pd.DataFrame({emb:res[emb][numeric_col].mean() for emb in res}).T"
   ]
  },
  {
   "cell_type": "code",
   "execution_count": null,
   "metadata": {},
   "outputs": [],
   "source": [
    "for emb in ['combsage','graphsage', 'specter']:\n",
    "    for k in k_list:\n",
    "        res[emb].loc[:,f'nov@{k}'] = recs[emb].T.apply(lambda x: mean_nov(x[f'@{k}'], x.name), axis=1)"
   ]
  },
  {
   "cell_type": "code",
   "execution_count": null,
   "metadata": {},
   "outputs": [],
   "source": [
    "numeric_col = [col for col in res['graphsage'].columns if 'nov' in col]\n",
    "pd.DataFrame({emb:res[emb][numeric_col].mean() for emb in res}).T"
   ]
  },
  {
   "cell_type": "code",
   "execution_count": null,
   "metadata": {},
   "outputs": [],
   "source": [
    "with open(f'embeddings/deepwalk_{year}.json', 'r') as infile:\n",
    "    dw = json.load(infile)"
   ]
  },
  {
   "cell_type": "code",
   "execution_count": null,
   "metadata": {},
   "outputs": [],
   "source": [
    "final_df.loc[:,'deepwalk'] = pd.Series(dw)"
   ]
  },
  {
   "cell_type": "code",
   "execution_count": null,
   "metadata": {},
   "outputs": [],
   "source": [
    "def cohen_d(x,y):\n",
    "    nx = len(x)\n",
    "    ny = len(y)\n",
    "    dof = nx + ny - 2\n",
    "    return (np.mean(x) - np.mean(y)) / np.sqrt(((nx-1)*np.std(x, ddof=1) ** 2 + (ny-1)*np.std(y, ddof=1) ** 2) / dof)"
   ]
  },
  {
   "cell_type": "code",
   "execution_count": null,
   "metadata": {},
   "outputs": [],
   "source": [
    "methods = ['combsage', 'graphsage', 'specter'] "
   ]
  },
  {
   "cell_type": "code",
   "execution_count": null,
   "metadata": {},
   "outputs": [],
   "source": [
    "for emb in methods:\n",
    "    for k in k_list:\n",
    "        res[emb].loc[:,f'div_dw@{k}'] = recs[emb].T[f'@{k}'].apply(mean_div,attr='deepwalk')"
   ]
  },
  {
   "cell_type": "code",
   "execution_count": null,
   "metadata": {},
   "outputs": [],
   "source": [
    "numeric_col = [col for col in res['graphsage'].columns if 'div' in col]\n",
    "pd.DataFrame({emb:res[emb][numeric_col].mean() for emb in res}).T"
   ]
  },
  {
   "cell_type": "code",
   "execution_count": null,
   "metadata": {},
   "outputs": [],
   "source": [
    "for emb in methods:\n",
    "    for k in k_list:\n",
    "        res[emb].loc[:,f'nov_dw@{k}'] = recs[emb].T.apply(lambda x: mean_nov(x[f'@{k}'], x.name, attr = 'deepwalk'), axis=1)"
   ]
  },
  {
   "cell_type": "code",
   "execution_count": null,
   "metadata": {},
   "outputs": [],
   "source": [
    "numeric_col = [col for col in res['graphsage'].columns if 'nov' in col]\n",
    "pd.DataFrame({emb:res[emb][numeric_col].median() for emb in res}).T"
   ]
  },
  {
   "cell_type": "code",
   "execution_count": null,
   "metadata": {},
   "outputs": [],
   "source": [
    "for emb in ['combsage','graphsage', 'specter']:\n",
    "    for k in k_list:\n",
    "        res[emb].loc[:,f'ret_div@{k}'] = res[emb][f'ret@{k}'].apply(mean_div)"
   ]
  },
  {
   "cell_type": "code",
   "execution_count": null,
   "metadata": {},
   "outputs": [],
   "source": [
    "numeric_col = [col for col in res['graphsage'].columns if 'div' in col]\n",
    "pd.DataFrame({emb:res[emb][numeric_col].mean() for emb in res}).T"
   ]
  },
  {
   "cell_type": "code",
   "execution_count": null,
   "metadata": {},
   "outputs": [],
   "source": [
    "for emb in ['combsage','graphsage', 'specter']:\n",
    "    for k in k_list:\n",
    "        res[emb].loc[:,f'ret_nov@{k}'] = res[emb].apply(lambda x: mean_nov(x[f'ret@{k}'], x.name), axis=1)"
   ]
  },
  {
   "cell_type": "code",
   "execution_count": null,
   "metadata": {},
   "outputs": [],
   "source": [
    "numeric_col = [col for col in res['graphsage'].columns if 'ret_nov' in col]\n",
    "pd.DataFrame({emb:res[emb][numeric_col].mean() for emb in res}).T"
   ]
  },
  {
   "cell_type": "code",
   "execution_count": null,
   "metadata": {},
   "outputs": [],
   "source": [
    "for emb in ['combsage','graphsage', 'specter']:\n",
    "    for k in k_list:\n",
    "        res[emb].loc[:,f'ret_div_dw@{k}'] = res[emb][f'ret@{k}'].apply(mean_div, attr = 'deepwalk')"
   ]
  },
  {
   "cell_type": "code",
   "execution_count": null,
   "metadata": {},
   "outputs": [],
   "source": [
    "for emb in ['combsage','graphsage', 'specter']:\n",
    "    for k in k_list:\n",
    "        res[emb].loc[:,f'ret_nov_dw@{k}'] = res[emb].apply(lambda x: mean_nov(x[f'ret@{k}'],\n",
    "                                                                              x.name, attr = 'deepwalk'), axis=1)"
   ]
  },
  {
   "cell_type": "code",
   "execution_count": null,
   "metadata": {},
   "outputs": [],
   "source": [
    "latex = table.to_latex(\n",
    "        index=True,\n",
    "        escape=False,\n",
    "        # sparsify=True,\n",
    "        multirow=True,\n",
    "        multicolumn=True,\n",
    "        multicolumn_format='c',\n",
    "        position='p',\n",
    "    )\n",
    "print(latex)"
   ]
  }
 ],
 "metadata": {
  "kernelspec": {
   "display_name": "Python 3 (ipykernel)",
   "language": "python",
   "name": "python3"
  },
  "language_info": {
   "codemirror_mode": {
    "name": "ipython",
    "version": 3
   },
   "file_extension": ".py",
   "mimetype": "text/x-python",
   "name": "python",
   "nbconvert_exporter": "python",
   "pygments_lexer": "ipython3",
   "version": "3.12.5"
  }
 },
 "nbformat": 4,
 "nbformat_minor": 4
}
