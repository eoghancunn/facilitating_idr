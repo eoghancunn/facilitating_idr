{
 "cells": [
  {
   "cell_type": "code",
   "execution_count": null,
   "metadata": {},
   "outputs": [],
   "source": [
    "import matplotlib.pyplot as plt\n",
    "from tqdm import tqdm\n",
    "import json \n",
    "import scipy\n",
    "import pickle\n",
    "import numpy as np\n",
    "import pandas as pd\n",
    "from multiprocessing import Pool"
   ]
  },
  {
   "cell_type": "code",
   "execution_count": null,
   "metadata": {},
   "outputs": [],
   "source": [
    "year = 2017\n",
    "methods = ['combsage','graphsage','specter']"
   ]
  },
  {
   "cell_type": "code",
   "execution_count": null,
   "metadata": {},
   "outputs": [],
   "source": [
    "data = {} \n",
    "with open(f'co_citations/{year}.json', 'r') as infile:\n",
    "    for json_line in infile.readlines():\n",
    "        try:\n",
    "            data.update(json.loads(json_line))\n",
    "        except:\n",
    "            continue\n",
    "\n",
    "co_cit_df = pd.DataFrame(data)\n",
    "del data"
   ]
  },
  {
   "cell_type": "code",
   "execution_count": null,
   "metadata": {},
   "outputs": [],
   "source": [
    "def auc(q):\n",
    "    irrel = list(co_cit_df[q][co_cit_df[q].isna()].index)\n",
    "    rel = list(co_cit_df[q][co_cit_df[q].notna()].index)\n",
    "    if len(rel) == 0:\n",
    "        return\n",
    "    rec_q = recs[q]\n",
    "    score = 0 \n",
    "    for i in irrel:\n",
    "        for r in rel:\n",
    "            if rec_q[i] < rec_q[r]:\n",
    "                score+=1  \n",
    "    return {q:score/(len(irrel)*len(rel))}"
   ]
  },
  {
   "cell_type": "code",
   "execution_count": null,
   "metadata": {},
   "outputs": [],
   "source": [
    "for method in methods:\n",
    "\n",
    "    print('reading recommendations for ',method)\n",
    "    with open(f'recommendations/total/{method}_{year}.json','r') as infile: \n",
    "        recs = json.load(infile)\n",
    "    \n",
    "    queries = list(co_cit_df.columns)\n",
    "    \n",
    "    with Pool(10) as p:\n",
    "          r = list(tqdm(p.imap(auc, queries), total=len(queries)))\n",
    "    \n",
    "    with open(f'auc/{method}.json', 'w+') as outfile:\n",
    "        json.dump(r,outfile)"
   ]
  },
  {
   "cell_type": "code",
   "execution_count": null,
   "metadata": {},
   "outputs": [],
   "source": [
    "aucs = {}\n",
    "for method in methods:\n",
    "    with open(f'auc/{method}.json', 'r+') as infile:\n",
    "        aucs[method] = json.load(infile)"
   ]
  },
  {
   "cell_type": "code",
   "execution_count": null,
   "metadata": {},
   "outputs": [],
   "source": [
    "for method in methods:\n",
    "    aucs[method] = pd.Series([list(d.items())[0][1] for d in aucs[method] if d])"
   ]
  },
  {
   "cell_type": "code",
   "execution_count": null,
   "metadata": {},
   "outputs": [],
   "source": [
    "auc_df = pd.concat([aucs[method] for method in methods],axis=1)\n",
    "auc_df.columns = methods"
   ]
  },
  {
   "cell_type": "code",
   "execution_count": null,
   "metadata": {},
   "outputs": [],
   "source": [
    "print(auc_df.mean().to_latex())"
   ]
  },
  {
   "cell_type": "code",
   "execution_count": null,
   "metadata": {},
   "outputs": [],
   "source": [
    "from sklearn.metrics import ndcg_score, average_precision_score"
   ]
  },
  {
   "cell_type": "code",
   "execution_count": null,
   "metadata": {},
   "outputs": [],
   "source": [
    "for method in methods:\n",
    "\n",
    "    print('reading recommendations for ',method)\n",
    "    with open(f'recommendations/total/{method}_{year}.json','r') as infile: \n",
    "        recs = json.load(infile)\n",
    "    \n",
    "    queries = list(co_cit_df.columns)\n",
    "    \n",
    "    rr, ndcg = [], []\n",
    "    for q in tqdm(queries):\n",
    "        \n",
    "        y_true = co_cit_df[q].fillna(0)\n",
    "        y_true[y_true>0] = 1\n",
    "        y_score = pd.Series(recs[q])\n",
    "        y_df = pd.concat([y_true,y_score], axis = 1).dropna()\n",
    "        y_df.columns = ['true','pred']\n",
    "        ndcg.append(ndcg_score([y_df.true],[y_df.pred]))\n",
    "        \n",
    "        rel = list(co_cit_df[q].dropna().index)\n",
    "        rank_s = y_score.rank(ascending = False)\n",
    "        rr.append(1 / rank_s[rel].min())\n",
    "        \n",
    "    mrr = pd.Series(rr).mean()\n",
    "    ndcg = pd.Series(ndcg).mean()\n",
    "\n",
    "    m = {'mrr':mrr, 'ndcg':ndcg}\n",
    "    \n",
    "    with open(f'metrics/{method}.json', 'w+') as outfile:\n",
    "        json.dump(m,outfile)"
   ]
  }
 ],
 "metadata": {
  "kernelspec": {
   "display_name": "Python 3 (ipykernel)",
   "language": "python",
   "name": "python3"
  },
  "language_info": {
   "codemirror_mode": {
    "name": "ipython",
    "version": 3
   },
   "file_extension": ".py",
   "mimetype": "text/x-python",
   "name": "python",
   "nbconvert_exporter": "python",
   "pygments_lexer": "ipython3",
   "version": "3.12.5"
  }
 },
 "nbformat": 4,
 "nbformat_minor": 4
}
