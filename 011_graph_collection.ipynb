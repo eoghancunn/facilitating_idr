{
 "cells": [
  {
   "cell_type": "code",
   "execution_count": 1,
   "metadata": {},
   "outputs": [],
   "source": [
    "import pandas as pd\n",
    "import requests\n",
    "import json\n",
    "import string \n",
    "import numpy as np\n",
    "import os\n",
    "from tqdm import tqdm"
   ]
  },
  {
   "cell_type": "code",
   "execution_count": 4,
   "metadata": {},
   "outputs": [],
   "source": [
    "with open('s2_ids.json','r') as infile:\n",
    "    data = json.load(infile)"
   ]
  },
  {
   "cell_type": "code",
   "execution_count": 5,
   "metadata": {},
   "outputs": [],
   "source": [
    "paper_id_list = data['s2_id_list']"
   ]
  },
  {
   "cell_type": "code",
   "execution_count": 7,
   "metadata": {},
   "outputs": [
    {
     "name": "stderr",
     "output_type": "stream",
     "text": [
      "100%|███████████████████████████████████████████████████████████| 3/3 [00:34<00:00, 11.37s/it]\n"
     ]
    }
   ],
   "source": [
    "fields = ['title', 'year', 'abstract', 'citations.paperId', 'references.paperId', 'citationCount']\n",
    "paper_fields = '?fields=' + ','.join(fields)\n",
    "paper_url = 'https://api.semanticscholar.org/graph/v1/paper/{}'\n",
    "header = {'x-api-key': api_key} # S2 provide API keys for increased limits, using the API without key is possible\n",
    "# identical to querying by DOI \n",
    "index_list = list(paper_id_list)\n",
    "batch_size = 20\n",
    "num_batches = int(len(paper_id_list)/batch_size)\n",
    "meta_data = []\n",
    "for batch_num in tqdm(range(num_batches)):\n",
    "    query = {\"ids\": index_list[batch_num*batch_size:(batch_num+1)*batch_size]}\n",
    "    url = paper_url.format('batch') + paper_fields\n",
    "    r = requests.post(url, json = query)\n",
    "    res = json.loads(r.text)\n",
    "    for i in range(batch_size):\n",
    "        try:\n",
    "            if res[i]:\n",
    "                meta_data.append(res[i])\n",
    "        except: \n",
    "            None "
   ]
  },
  {
   "cell_type": "code",
   "execution_count": null,
   "metadata": {
    "tags": []
   },
   "outputs": [],
   "source": [
    "# repeat for final batch\n",
    "if len(doi_list)%batch_size != 0:\n",
    "    index = index_list[(batch_num+1)*batch_size:len(doi_list)]\n",
    "    query = {\"ids\": doi_list[(batch_num+1)*batch_size:len(doi_list)]}\n",
    "    url = paper_url.format('batch') + paper_fields\n",
    "    r = requests.post(url, json = query, headers = header)\n",
    "    res = json.loads(r.text)\n",
    "    for i in range(len(res)):\n",
    "        if res[i]:\n",
    "            res[i].update({'original_index':index[i]})\n",
    "            meta_data.append(res[i])"
   ]
  },
  {
   "cell_type": "code",
   "execution_count": 11,
   "metadata": {},
   "outputs": [
    {
     "data": {
      "text/html": [
       "<div>\n",
       "<style scoped>\n",
       "    .dataframe tbody tr th:only-of-type {\n",
       "        vertical-align: middle;\n",
       "    }\n",
       "\n",
       "    .dataframe tbody tr th {\n",
       "        vertical-align: top;\n",
       "    }\n",
       "\n",
       "    .dataframe thead th {\n",
       "        text-align: right;\n",
       "    }\n",
       "</style>\n",
       "<table border=\"1\" class=\"dataframe\">\n",
       "  <thead>\n",
       "    <tr style=\"text-align: right;\">\n",
       "      <th></th>\n",
       "    </tr>\n",
       "  </thead>\n",
       "  <tbody>\n",
       "  </tbody>\n",
       "</table>\n",
       "</div>"
      ],
      "text/plain": [
       "Empty DataFrame\n",
       "Columns: []\n",
       "Index: []"
      ]
     },
     "execution_count": 11,
     "metadata": {},
     "output_type": "execute_result"
    }
   ],
   "source": [
    "df = pd.DataFrame(meta_data)"
   ]
  },
  {
   "cell_type": "code",
   "execution_count": 3,
   "metadata": {},
   "outputs": [
    {
     "data": {
      "text/html": [
       "<div>\n",
       "<style scoped>\n",
       "    .dataframe tbody tr th:only-of-type {\n",
       "        vertical-align: middle;\n",
       "    }\n",
       "\n",
       "    .dataframe tbody tr th {\n",
       "        vertical-align: top;\n",
       "    }\n",
       "\n",
       "    .dataframe thead th {\n",
       "        text-align: right;\n",
       "    }\n",
       "</style>\n",
       "<table border=\"1\" class=\"dataframe\">\n",
       "  <thead>\n",
       "    <tr style=\"text-align: right;\">\n",
       "      <th></th>\n",
       "      <th>paperId</th>\n",
       "      <th>title</th>\n",
       "      <th>abstract</th>\n",
       "      <th>fieldsOfStudy</th>\n",
       "      <th>s2FieldsOfStudy</th>\n",
       "      <th>embedding</th>\n",
       "      <th>s2FOS</th>\n",
       "      <th>scibert_cls</th>\n",
       "      <th>title_lang</th>\n",
       "      <th>abstract_lang</th>\n",
       "      <th>paperId_add</th>\n",
       "      <th>title_add</th>\n",
       "      <th>year</th>\n",
       "      <th>citationCount</th>\n",
       "      <th>citations</th>\n",
       "      <th>references</th>\n",
       "    </tr>\n",
       "  </thead>\n",
       "  <tbody>\n",
       "    <tr>\n",
       "      <th>5883</th>\n",
       "      <td>daf4cc76c355d19d7d392be50bf97aa4d20bc9f8</td>\n",
       "      <td>Circulating long non-coding RNAs in plasma of ...</td>\n",
       "      <td>BACKGROUND\\nWe examined the levels of long non...</td>\n",
       "      <td>[Biology, Medicine]</td>\n",
       "      <td>[{'category': 'Biology', 'source': 'external'}...</td>\n",
       "      <td>{'model': 'specter@v0.1.1', 'vector': [-0.6012...</td>\n",
       "      <td>[Biology, Medicine, Medicine, Biology]</td>\n",
       "      <td>[-0.5647488236, 0.4838282466, -0.2315677404, -...</td>\n",
       "      <td>en</td>\n",
       "      <td>en</td>\n",
       "      <td>daf4cc76c355d19d7d392be50bf97aa4d20bc9f8</td>\n",
       "      <td>Circulating long non-coding RNAs in plasma of ...</td>\n",
       "      <td>2013.0</td>\n",
       "      <td>249</td>\n",
       "      <td>[45c51f0cf56b70176fe9e96f83b7a9ca0a2ce3f4, 658...</td>\n",
       "      <td>[92978bb85c91f00979b3ed86c7e4ebfd62c58c21, 2ec...</td>\n",
       "    </tr>\n",
       "  </tbody>\n",
       "</table>\n",
       "</div>"
      ],
      "text/plain": [
       "                                       paperId  \\\n",
       "5883  daf4cc76c355d19d7d392be50bf97aa4d20bc9f8   \n",
       "\n",
       "                                                  title  \\\n",
       "5883  Circulating long non-coding RNAs in plasma of ...   \n",
       "\n",
       "                                               abstract        fieldsOfStudy  \\\n",
       "5883  BACKGROUND\\nWe examined the levels of long non...  [Biology, Medicine]   \n",
       "\n",
       "                                        s2FieldsOfStudy  \\\n",
       "5883  [{'category': 'Biology', 'source': 'external'}...   \n",
       "\n",
       "                                              embedding  \\\n",
       "5883  {'model': 'specter@v0.1.1', 'vector': [-0.6012...   \n",
       "\n",
       "                                       s2FOS  \\\n",
       "5883  [Biology, Medicine, Medicine, Biology]   \n",
       "\n",
       "                                            scibert_cls title_lang  \\\n",
       "5883  [-0.5647488236, 0.4838282466, -0.2315677404, -...         en   \n",
       "\n",
       "     abstract_lang                               paperId_add  \\\n",
       "5883            en  daf4cc76c355d19d7d392be50bf97aa4d20bc9f8   \n",
       "\n",
       "                                              title_add    year  \\\n",
       "5883  Circulating long non-coding RNAs in plasma of ...  2013.0   \n",
       "\n",
       "      citationCount                                          citations  \\\n",
       "5883            249  [45c51f0cf56b70176fe9e96f83b7a9ca0a2ce3f4, 658...   \n",
       "\n",
       "                                             references  \n",
       "5883  [92978bb85c91f00979b3ed86c7e4ebfd62c58c21, 2ec...  "
      ]
     },
     "execution_count": 3,
     "metadata": {},
     "output_type": "execute_result"
    }
   ],
   "source": [
    "df.sample()"
   ]
  },
  {
   "cell_type": "code",
   "execution_count": 5,
   "metadata": {},
   "outputs": [],
   "source": [
    "paper_ids = set(df['paperId'])\n",
    "final_df.loc[:,'in_set_refs'] = df['references'].map(lambda x: set(x).intersection(paper_ids))\n",
    "final_df.loc[:,'in_set_cits'] = dfj['citations'].map(lambda x: set(x).intersection(paper_ids))"
   ]
  },
  {
   "cell_type": "code",
   "execution_count": 7,
   "metadata": {},
   "outputs": [],
   "source": [
    "final_df.loc[:,'adjacencies'] = df.apply(lambda row:\n",
    "                                              row['in_set_refs'].union(row['in_set_cits']),\n",
    "                                              axis = 1)\n",
    "final_df.to_json('meta_data.jsonl', orient = 'records', lines = True)"
   ]
  },
  {
   "cell_type": "code",
   "execution_count": 26,
   "metadata": {},
   "outputs": [],
   "source": [
    "G_total = nx.Graph()\n",
    "for n1, data in df.set_index('paperId').iterrows():\n",
    "    G_total.add_node(n1, year = data['year'])\n",
    "for n1, data in df.set_index('paperId').iterrows():\n",
    "    for n2 in data['adjacencies']:\n",
    "        G_total.add_edge(n1, n2)"
   ]
  },
  {
   "cell_type": "code",
   "execution_count": 27,
   "metadata": {},
   "outputs": [
    {
     "data": {
      "text/plain": [
       "(58304, 856153)"
      ]
     },
     "execution_count": 27,
     "metadata": {},
     "output_type": "execute_result"
    }
   ],
   "source": [
    "G_total.number_of_nodes(), G_total.number_of_edges()"
   ]
  },
  {
   "cell_type": "code",
   "execution_count": 42,
   "metadata": {},
   "outputs": [
    {
     "name": "stdout",
     "output_type": "stream",
     "text": [
      "2021\n",
      "2020\n",
      "2019\n",
      "2018\n",
      "2017\n",
      "2016\n",
      "2015\n",
      "2014\n"
     ]
    }
   ],
   "source": [
    "subgraphs = {}\n",
    "for y in reversed(range(2014,2022)):\n",
    "    subgraph = G_total.subgraph(\n",
    "        [node for node, year_attr in G_total.nodes(data='year')\n",
    "         if year_attr <= y])\n",
    "    subgraphs[y] = subgraph"
   ]
  },
  {
   "cell_type": "code",
   "execution_count": 52,
   "metadata": {},
   "outputs": [],
   "source": [
    "for y in subgraphs:\n",
    "    nx.write_gexf(subgraphs[y],'citation_graphs/{}.gexf'.format(y))"
   ]
  }
 ],
 "metadata": {
  "kernelspec": {
   "display_name": "Python 3 (ipykernel)",
   "language": "python",
   "name": "python3"
  },
  "language_info": {
   "codemirror_mode": {
    "name": "ipython",
    "version": 3
   },
   "file_extension": ".py",
   "mimetype": "text/x-python",
   "name": "python",
   "nbconvert_exporter": "python",
   "pygments_lexer": "ipython3",
   "version": "3.12.5"
  }
 },
 "nbformat": 4,
 "nbformat_minor": 4
}
